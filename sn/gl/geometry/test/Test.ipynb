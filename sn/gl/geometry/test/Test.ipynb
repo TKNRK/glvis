{
 "cells": [
  {
   "cell_type": "code",
   "execution_count": 2,
   "metadata": {
    "collapsed": false
   },
   "outputs": [
    {
     "name": "stdout",
     "output_type": "stream",
     "text": [
      "Version  4.5\n",
      "Profile  Core profile\n",
      "Vendor   NVIDIA Corporation\n",
      "Renderer GeForce GTX 770/PCIe/SSE2\n",
      "GLSL     4.50 NVIDIA\n",
      "\n"
     ]
    }
   ],
   "source": [
    "from point import W\n",
    "\n",
    "try: W.start(W)\n",
    "except: pass"
   ]
  },
  {
   "cell_type": "code",
   "execution_count": null,
   "metadata": {
    "collapsed": true
   },
   "outputs": [],
   "source": []
  }
 ],
 "metadata": {
  "kernelspec": {
   "display_name": "Python 3",
   "language": "python",
   "name": "python3"
  },
  "language_info": {
   "codemirror_mode": {
    "name": "ipython",
    "version": 3
   },
   "file_extension": ".py",
   "mimetype": "text/x-python",
   "name": "python",
   "nbconvert_exporter": "python",
   "pygments_lexer": "ipython3",
   "version": "3.4.4"
  }
 },
 "nbformat": 4,
 "nbformat_minor": 0
}
