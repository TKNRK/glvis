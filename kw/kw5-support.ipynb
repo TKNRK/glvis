{
 "cells": [
  {
   "cell_type": "code",
   "execution_count": 10,
   "metadata": {
    "collapsed": true
   },
   "outputs": [],
   "source": [
    "import sympy as sp\n",
    "sp.init_printing()\n",
    "from sympy.utilities.lambdify import lambdastr"
   ]
  },
  {
   "cell_type": "code",
   "execution_count": 15,
   "metadata": {
    "collapsed": false
   },
   "outputs": [
    {
     "data": {
      "image/png": "[encoded data removed]",
      "text/plain": [
       "                    2    2\n",
       "                   x    z \n",
       "                 - ── - ──\n",
       "⎛   2    2    ⎞    2    2 \n",
       "⎝- x  - z  + 1⎠⋅ℯ         "
      ]
     },
     "execution_count": 15,
     "metadata": {},
     "output_type": "execute_result"
    }
   ],
   "source": [
    "x, z = sp.var('x z')\n",
    "t = sp.sqrt(x**2 + z**2)\n",
    "MexicanHat = (1 - t**2) * sp.exp(-t**2/2)\n",
    "MexicanHat"
   ]
  },
  {
   "cell_type": "code",
   "execution_count": 14,
   "metadata": {
    "collapsed": false
   },
   "outputs": [
    {
     "data": {
      "image/png": "[encoded data removed]",
      "text/plain": [
       "⎡                    2    2⎤\n",
       "⎢                   x    z ⎥\n",
       "⎢                 - ── - ──⎥\n",
       "⎢  ⎛ 2    2    ⎞    2    2 ⎥\n",
       "⎢x⋅⎝x  + z  - 3⎠⋅ℯ         ⎥\n",
       "⎢                          ⎥\n",
       "⎢                    2    2⎥\n",
       "⎢                   x    z ⎥\n",
       "⎢                 - ── - ──⎥\n",
       "⎢  ⎛ 2    2    ⎞    2    2 ⎥\n",
       "⎣z⋅⎝x  + z  - 3⎠⋅ℯ         ⎦"
      ]
     },
     "execution_count": 14,
     "metadata": {},
     "output_type": "execute_result"
    }
   ],
   "source": [
    "sp.simplify(sp.Matrix([MexicanHat]).jacobian([x, z]).T)"
   ]
  },
  {
   "cell_type": "code",
   "execution_count": null,
   "metadata": {
    "collapsed": true
   },
   "outputs": [],
   "source": [
    ""
   ]
  }
 ],
 "metadata": {
  "kernelspec": {
   "display_name": "Python 3",
   "language": "python",
   "name": "python3"
  },
  "language_info": {
   "codemirror_mode": {
    "name": "ipython",
    "version": 3.0
   },
   "file_extension": ".py",
   "mimetype": "text/x-python",
   "name": "python",
   "nbconvert_exporter": "python",
   "pygments_lexer": "ipython3",
   "version": "3.5.2"
  },
  "nav_menu": {},
  "toc": {
   "navigate_menu": true,
   "number_sections": true,
   "sideBar": true,
   "threshold": 6.0,
   "toc_cell": false,
   "toc_section_display": "block",
   "toc_window_display": false
  }
 },
 "nbformat": 4,
 "nbformat_minor": 0
}