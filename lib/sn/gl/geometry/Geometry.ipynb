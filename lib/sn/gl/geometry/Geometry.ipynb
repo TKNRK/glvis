{
 "cells": [
  {
   "cell_type": "code",
   "execution_count": 1,
   "metadata": {
    "collapsed": true
   },
   "outputs": [],
   "source": [
    "import os, os.path, sys\n",
    "root_path = os.path.join(os.path.normpath(os.environ['DROPBOX']), 'work', 'pyqt')\n",
    "sys.path.append(os.path.join(root_path, 'lib'))\n",
    "\n",
    "def demo(Demo):\n",
    "    try: Demo.start(Demo)\n",
    "    except: pass"
   ]
  },
  {
   "cell_type": "code",
   "execution_count": 2,
   "metadata": {
    "collapsed": false,
    "scrolled": true
   },
   "outputs": [
    {
     "name": "stdout",
     "output_type": "stream",
     "text": [
      "Version  4.4\n",
      "Profile  Core profile\n",
      "Vendor   Intel\n",
      "Renderer Intel(R) HD Graphics 5500\n",
      "GLSL     4.40 - Build 10.18.15.4281\n",
      "\n",
      "defaultdict(<function Program._examineUniforms.<locals>.<lambda> at 0x0000000009EBB048>, {'pointsize': <function Program._examineUniforms.<locals>.<lambda> at 0x0000000009EBB0D0>})\n",
      "Uniform[pointsize]: 20\n",
      "\n"
     ]
    }
   ],
   "source": [
    "from sn.gl.geometry.point import D as PointDemo\n",
    "demo(PointDemo)"
   ]
  },
  {
   "cell_type": "code",
   "execution_count": 3,
   "metadata": {
    "collapsed": false
   },
   "outputs": [
    {
     "name": "stdout",
     "output_type": "stream",
     "text": [
      "Version  4.4\n",
      "Profile  Core profile\n",
      "Vendor   Intel\n",
      "Renderer Intel(R) HD Graphics 5500\n",
      "GLSL     4.40 - Build 10.18.15.4281\n",
      "\n",
      "defaultdict(<function Program._examineUniforms.<locals>.<lambda> at 0x0000000009EC5510>, {})\n"
     ]
    }
   ],
   "source": [
    "from sn.gl.geometry.regularpolygon import D as RegularPolygonDemo\n",
    "demo(RegularPolygonDemo)"
   ]
  },
  {
   "cell_type": "code",
   "execution_count": 2,
   "metadata": {
    "collapsed": false,
    "scrolled": true
   },
   "outputs": [
    {
     "name": "stdout",
     "output_type": "stream",
     "text": [
      "Version  4.4\n",
      "Profile  Core profile\n",
      "Vendor   Intel\n",
      "Renderer Intel(R) HD Graphics 5500\n",
      "GLSL     4.40 - Build 10.18.15.4281\n",
      "\n",
      "defaultdict(<function Program._examineUniforms.<locals>.<lambda> at 0x0000000009E510D0>, {'pointsize': <function Program._examineUniforms.<locals>.<lambda> at 0x0000000009E51268>, 'MV': <function Program._examineUniforms.<locals>.<lambda> at 0x0000000009E511E0>, 'worldlight': <function Program._examineUniforms.<locals>.<lambda> at 0x0000000009E512F0>, 'P': <function Program._examineUniforms.<locals>.<lambda> at 0x0000000009E51158>})\n",
      "Points(2187,): [-1. -1. -1. ...,  1.  1.  1.]\n",
      "\n",
      "Uniform[pointsize]: 33.333333333333336\n",
      "\n",
      "Uniform[P]:\n",
      "[[ 1.3444432   0.          0.          0.        ]\n",
      " [ 0.          1.79259098  1.01010096  0.1010101 ]\n",
      " [ 0.          0.         -1.02020204 -0.2020202 ]\n",
      " [ 0.          0.         -1.          0.        ]]\n",
      "\n",
      "Uniform[MV]:\n",
      "[[ 1.  0.  0.  0.]\n",
      " [ 0.  1.  0.  0.]\n",
      " [ 0.  0.  1. -5.]\n",
      " [ 0.  0.  0.  1.]]\n",
      "\n",
      "Uniform[MV]:\n",
      "[[ 1.  0.  0.  0.]\n",
      " [ 0.  1.  0.  0.]\n",
      " [ 0.  0.  1. -5.]\n",
      " [ 0.  0.  0.  1.]]\n",
      "\n"
     ]
    }
   ],
   "source": [
    "from sn.gl.geometry.pointgrid import D as PointGridDemo\n",
    "demo(PointGridDemo)"
   ]
  },
  {
   "cell_type": "code",
   "execution_count": null,
   "metadata": {
    "collapsed": true
   },
   "outputs": [],
   "source": []
  }
 ],
 "metadata": {
  "kernelspec": {
   "display_name": "Python 3",
   "language": "python",
   "name": "python3"
  },
  "language_info": {
   "codemirror_mode": {
    "name": "ipython",
    "version": 3
   },
   "file_extension": ".py",
   "mimetype": "text/x-python",
   "name": "python",
   "nbconvert_exporter": "python",
   "pygments_lexer": "ipython3",
   "version": "3.4.4"
  }
 },
 "nbformat": 4,
 "nbformat_minor": 0
}
