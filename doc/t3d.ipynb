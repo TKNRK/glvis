{
 "cells": [
  {
   "cell_type": "markdown",
   "metadata": {},
   "source": [
    "# Package import"
   ]
  },
  {
   "cell_type": "code",
   "execution_count": 26,
   "metadata": {
    "collapsed": true
   },
   "outputs": [],
   "source": [
    "from math import cos, sin, tan\n",
    "import numpy as np\n",
    "\n",
    "from transforms3d import affines as a\n",
    "#from transforms3d import taitbryan as tb\n",
    "#from transforms3d import quaternions as q\n",
    "from transforms3d import _gohlketransforms as t"
   ]
  },
  {
   "cell_type": "markdown",
   "metadata": {},
   "source": [
    "# 基本的なユーティリティ関数"
   ]
  },
  {
   "cell_type": "markdown",
   "metadata": {},
   "source": [
    "## ベクトルの扱い"
   ]
  },
  {
   "cell_type": "markdown",
   "metadata": {},
   "source": [
    "ベクトルの定義"
   ]
  },
  {
   "cell_type": "code",
   "execution_count": 4,
   "metadata": {
    "collapsed": false
   },
   "outputs": [
    {
     "name": "stdout",
     "output_type": "stream",
     "text": [
      "v2 = [ 1.  2.]\n",
      "v3 = [ 1.  2.  3.]\n",
      "v4 = [ 1.  2.  3.  4.]\n",
      "v8 = [ 1.  2.  3.  4.  5.  6.  7.  8.]\n"
     ]
    }
   ],
   "source": [
    "def vec2(x, y): return np.array([x, y], dtype=np.float32)\n",
    "def vec3(x, y, z): return np.array([x, y, z], dtype=np.float32)\n",
    "def vec4(x, y, z, w): return np.array([x, y, z, w], dtype=np.float32)\n",
    "def vec(*args): return np.array(args, dtype=np.float32)\n",
    "\n",
    "if __name__ == '__main__':\n",
    "    v2 = vec2(1, 2)\n",
    "    v3 = vec3(1, 2, 3)\n",
    "    v4 = vec4(1, 2, 3, 4)\n",
    "    v8 = vec(1, 2, 3, 4, 5, 6, 7, 8)\n",
    "    print('v2 =', v2)\n",
    "    print('v3 =', v3)\n",
    "    print('v4 =', v4)\n",
    "    print('v8 =', v8)"
   ]
  },
  {
   "cell_type": "markdown",
   "metadata": {},
   "source": [
    "ベクトルの正規化"
   ]
  },
  {
   "cell_type": "code",
   "execution_count": 5,
   "metadata": {
    "collapsed": false
   },
   "outputs": [
    {
     "name": "stdout",
     "output_type": "stream",
     "text": [
      "|normalize(v2)| = 0.9999999403953552\n",
      "|normalize(v3)| = 0.9999999403953552\n",
      "|normalize(v4)| = 0.9999999403953552\n",
      "|normalize(v8)| = 1.0\n"
     ]
    }
   ],
   "source": [
    "def normalize(v):\n",
    "    norm=np.linalg.norm(v)\n",
    "    if norm==0: return v\n",
    "    return v/norm\n",
    "\n",
    "if __name__ == '__main__':\n",
    "    def __normalize(vname, v):\n",
    "        nv = normalize(v)\n",
    "        print('|normalize({0})| = {1}'.format(vname, np.linalg.norm(nv)))\n",
    "    __normalize('v2', v2)\n",
    "    __normalize('v3', v3)\n",
    "    __normalize('v4', v4)\n",
    "    __normalize('v8', v8)"
   ]
  },
  {
   "cell_type": "markdown",
   "metadata": {},
   "source": [
    "## Matrices"
   ]
  },
  {
   "cell_type": "markdown",
   "metadata": {},
   "source": [
    "4x4行列はrow-major表現で与えと、column-majorなものを与える。`mat4x4`関数の最後で転置行列をとっていることに注意。"
   ]
  },
  {
   "cell_type": "code",
   "execution_count": 6,
   "metadata": {
    "collapsed": false,
    "scrolled": true
   },
   "outputs": [
    {
     "name": "stdout",
     "output_type": "stream",
     "text": [
      "mat4x4(1, 2, 3, ...):\n",
      "[[  1.   2.   3.   4.]\n",
      " [  5.   6.   7.   8.]\n",
      " [  9.  10.  11.  12.]\n",
      " [ 13.  14.  15.  16.]]\n",
      "tmat4x4(1, 2, 3, ...):\n",
      "[[  1.   5.   9.  13.]\n",
      " [  2.   6.  10.  14.]\n",
      " [  3.   7.  11.  15.]\n",
      " [  4.   8.  12.  16.]]\n"
     ]
    }
   ],
   "source": [
    "def mat4x4(m00, m01, m02, m03, m10, m11, m12, m13,\n",
    "        m20, m21, m22, m23, m30, m31, m32, m33):\n",
    "    return np.array([m00, m01, m02, m03, m10, m11, m12, m13,\n",
    "        m20, m21, m22, m23, m30, m31, m32, m33], dtype=np.float32).reshape((4, 4))\n",
    "\n",
    "def tmat4x4(m00, m01, m02, m03, m10, m11, m12, m13,\n",
    "        m20, m21, m22, m23, m30, m31, m32, m33):\n",
    "    return mat4x4(m00, m01, m02, m03, m10, m11, m12, m13,\n",
    "        m20, m21, m22, m23, m30, m31, m32, m33).transpose()\n",
    "\n",
    "identity = t.identity_matrix\n",
    "#id4x4 = identity(4)\n",
    "\n",
    "if __name__ == '__main__':\n",
    "    print('mat4x4(1, 2, 3, ...):\\n{0}'.format(mat4x4(1, 2, 3, 4, 5, 6, 7, 8, 9, 10, 11, 12, 13, 14, 15, 16)))\n",
    "    print('tmat4x4(1, 2, 3, ...):\\n{0}'.format(tmat4x4(1, 2, 3, 4, 5, 6, 7, 8, 9, 10, 11, 12, 13, 14, 15, 16)))\n",
    "\n",
    "\n",
    "    cat = t.concatenate_matrices"
   ]
  },
  {
   "cell_type": "code",
   "execution_count": 15,
   "metadata": {
    "collapsed": false
   },
   "outputs": [
    {
     "name": "stdout",
     "output_type": "stream",
     "text": [
      "Scale(2, 3, 4):\n",
      "[[ 2.  0.  0.  0.]\n",
      " [ 0.  3.  0.  0.]\n",
      " [ 0.  0.  4.  0.]\n",
      " [ 0.  0.  0.  1.]]\n",
      "Rotate[X:90]\n",
      "[[ 1.     0.     0.     0.   ]\n",
      " [ 0.     0.5    0.866  0.   ]\n",
      " [ 0.    -0.866  0.5    0.   ]\n",
      " [ 0.     0.     0.     0.   ]]\n",
      "Rotate[Y:90]\n",
      "[[ 0.5    0.    -0.866  0.   ]\n",
      " [ 0.     1.     0.     0.   ]\n",
      " [ 0.866  0.     0.5    0.   ]\n",
      " [ 0.     0.     0.     0.   ]]\n",
      "Rotate[Z:90]\n",
      "[[ 0.5    0.866  0.     0.   ]\n",
      " [-0.866  0.5    0.     0.   ]\n",
      " [ 0.     0.     1.     0.   ]\n",
      " [ 0.     0.     0.     0.   ]]\n",
      "Translate(1, 2, 3):\n",
      "[[ 1.  0.  0.  0.]\n",
      " [ 0.  1.  0.  0.]\n",
      " [ 0.  0.  1.  0.]\n",
      " [ 1.  2.  3.  1.]]\n"
     ]
    }
   ],
   "source": [
    "NoTranslation = [0, 0, 0]\n",
    "NoRotation = [[1, 0, 0], [0, 1, 0], [0, 0, 1]]\n",
    "NoZoom = [1, 1, 1]\n",
    "\n",
    "def compose(T=NoTranslation, R=NoRotation, Z=NoZoom): return a.compose(T, R, Z)\n",
    "\n",
    "def scale(x, y, z):\n",
    "    return mat4x4(\n",
    "        x, 0, 0, 0,\n",
    "        0, y, 0, 0,\n",
    "        0, 0, z, 0,\n",
    "        0, 0, 0, 1)\n",
    "\n",
    "# def rotate(radian, dir): return t.rotation_matrix(radian, dir)\n",
    "def rotate(radian, x, y, z):\n",
    "    c = cos(radian); s = sin(radian)\n",
    "    t = vec3((1-c)*x, (1-c)*y, (1-c)*z)\n",
    "    return mat4x4(\n",
    "        c + t[0]*x, 0 + t[0]*y + s*z, 0 + t[0]*z - s*y, 0,\n",
    "        0 + t[1]*x - s*z, c + t[1]*y, 0 + t[1]*z + s*x, 0,\n",
    "        0 + t[2]*x + s*y, 0 + t[2]*y - s*x, c + t[2]*z, 0,\n",
    "        0, 0, 0, 0)\n",
    "\n",
    "def translate(x, y, z):\n",
    "    return mat4x4(\n",
    "    1, 0, 0, 0,\n",
    "    0, 1, 0, 0,\n",
    "    0, 0, 1, 0,\n",
    "    x, y, z, 1)\n",
    "\n",
    "shear = t.shear_matrix\n",
    "\n",
    "if __name__ == '__main__':\n",
    "    np.set_printoptions(precision=3, suppress=True)\n",
    "    print('Scale(2, 3, 4):\\n{0}'.format(scale(2, 3, 4)))\n",
    "    print('Rotate[X:90]\\n{0}'.format(rotate(np.pi/3, 1, 0, 0)))\n",
    "    print('Rotate[Y:90]\\n{0}'.format(rotate(np.pi/3, 0, 1, 0)))\n",
    "    print('Rotate[Z:90]\\n{0}'.format(rotate(np.pi/3, 0, 0, 1)))\n",
    "    print('Translate(1, 2, 3):\\n{0}'.format(translate(1, 2, 3)))"
   ]
  },
  {
   "cell_type": "markdown",
   "metadata": {},
   "source": [
    "## 空間変換のための関数群\n",
    "\n",
    "### 視野変換 (LookAt)\n",
    "\n",
    "$$\\begin {align}\n",
    "F &= \\mathit {normalize}(\\mathit {center} - \\mathit {eye}) \\\\\n",
    "S &= \\mathit {normalize}(F \\times \\mathit {up}) \\\\\n",
    "H &= S \\times F \\\\\n",
    "\\mathit {LookAt} &= \\begin {pmatrix}\n",
    "  S_0 & H_0 & -F_0 & 0 \\\\\n",
    "  S_1 & H_1 & -F_1 & 0 \\\\\n",
    "  S_2 & H_2 & -F_2 & 0 \\\\\n",
    "  -S \\cdot \\mathit {eye} & -H \\cdot \\mathit {eye} & F \\cdot \\mathit {eye} & 0\n",
    "\\end {pmatrix}\n",
    "\\end {align}$$"
   ]
  },
  {
   "cell_type": "code",
   "execution_count": 19,
   "metadata": {
    "collapsed": false
   },
   "outputs": [
    {
     "name": "stdout",
     "output_type": "stream",
     "text": [
      "LookAt:\n",
      "[[-1.  0.  0.  5.]\n",
      " [ 0.  1. -0. -0.]\n",
      " [-0. -0. -1. -5.]\n",
      " [ 0.  0.  0.  1.]]\n",
      "LookAt 変換によって4つの点\n",
      "[[  0.    0.    0.    0. ]\n",
      " [  0.    0.    0.    0. ]\n",
      " [ -2.5   0.    5.   45. ]\n",
      " [  1.    1.    1.    1. ]]\n",
      "は、それぞれ次の点に移動します\n",
      "[[  5.    5.    5.    5. ]\n",
      " [  0.    0.    0.    0. ]\n",
      " [ -2.5  -5.  -10.  -50. ]\n",
      " [  1.    1.    1.    1. ]]\n"
     ]
    }
   ],
   "source": [
    "def lookat(eye, center, up):\n",
    "    # Forward, Side, and Head\n",
    "    F = normalize(center - eye)\n",
    "    S = normalize(np.cross(F, up))\n",
    "    U = np.cross(S, F)\n",
    "    \n",
    "    return mat4x4(\n",
    "        S[0], S[1], S[2], -np.dot(S, eye),\n",
    "        U[0], U[1], U[2], -np.dot(U, eye),\n",
    "        -F[0], -F[1], -F[2], np.dot(F, eye),\n",
    "        0, 0, 0, 1)\n",
    "\n",
    "    return mat4x4(\n",
    "        S[0], U[0], -F[0], 0,\n",
    "        S[1], U[1], -F[1], 0,\n",
    "        S[2], U[2], -F[2], 0,\n",
    "        -np.dot(S, eye), -np.dot(U, eye), np.dot(F, eye), 1)\n",
    "\n",
    "'''# GLM implementation\n",
    "template <typename T, precision P> GLM_FUNC_QUALIFIER tmat4x4<T, P>\n",
    "lookAt (tvec3<T, P> const & eye, tvec3<T, P> const & center, tvec3<T, P> const & up) {\n",
    "    tvec3<T, P> const f(normalize(center - eye));\n",
    "    tvec3<T, P> const s(normalize(cross(f, up)));\n",
    "    tvec3<T, P> const u(cross(s, f));\n",
    "\n",
    "    tmat4x4<T, P> Result(1);\n",
    "    Result[0][0] = s.x; Result[1][0] = s.y; Result[2][0] = s.z;\n",
    "    Result[0][1] = u.x; Result[1][1] = u.y; Result[2][1] = u.z;\n",
    "    Result[0][2] =-f.x; Result[1][2] =-f.y; Result[2][2] =-f.z;\n",
    "    Result[3][0] =-dot(s, eye); Result[3][1] =-dot(u, eye); Result[3][2] = dot(f, eye);\n",
    "    return Result;\n",
    "}'''\n",
    "\n",
    "if __name__ == '__main__':\n",
    "    eye    = vec3(5, 0, -5) # 視点\n",
    "    center = vec3(5, 0, 0)  # 投影面上の点：XY平面を正面から眺める\n",
    "    up     = vec3(0, 1, 0)  # Y軸方向を頭の向きとする\n",
    "    LookAt = lookat(eye, center, up)\n",
    "    print('LookAt:\\n{0}'.format(LookAt))\n",
    "    \n",
    "    points = vec([0, 0, -2.5, 1,\n",
    "                  0, 0, 0, 1,\n",
    "                  0, 0, 5, 1,\n",
    "                  0, 0, 45, 1]).reshape((-1, 4)).T\n",
    "    print('LookAt 変換によって4つの点\\n{0}\\nは、それぞれ次の点に移動します\\n{1}'\n",
    "          .format(points, LookAt.dot(points)))"
   ]
  },
  {
   "cell_type": "markdown",
   "metadata": {},
   "source": [
    "## Ortho transformation"
   ]
  },
  {
   "cell_type": "code",
   "execution_count": 31,
   "metadata": {
    "collapsed": false
   },
   "outputs": [
    {
     "name": "stdout",
     "output_type": "stream",
     "text": [
      "Ortho(0, 10, 0, 10, 2, 12):\n",
      "[[ 0.2  0.   0.  -1. ]\n",
      " [ 0.   0.2  0.  -1. ]\n",
      " [ 0.   0.  -0.2 -1.4]\n",
      " [ 0.   0.   0.   1. ]]\n"
     ]
    }
   ],
   "source": [
    "def ortho(left, right, bottom, top, zNear=-1, zFar=1):\n",
    "    rl, tb, fn = right - left, top - bottom, zFar - zNear\n",
    "    return mat4x4(\n",
    "            2/rl, 0, 0, -(right + left)/rl,\n",
    "            0, 2/tb, 0, -(top + bottom)/tb,\n",
    "            0, 0, -2/fn, -(zFar + zNear)/fn,\n",
    "            0, 0, 0, 1)\n",
    "\n",
    "''' GLM Implementation\n",
    "\n",
    "template <typename T> GLM_FUNC_QUALIFIER tmat4x4<T, defaultp>\n",
    "ortho (T left, T right, T bottom, T top, T zNear, T zFar) {\n",
    "    tmat4x4<T, defaultp> Result(1);\n",
    "    Result[0][0] = static_cast<T>(2) / (right - left);\n",
    "    Result[1][1] = static_cast<T>(2) / (top - bottom);\n",
    "    Result[2][2] = - static_cast<T>(2) / (zFar - zNear);\n",
    "    Result[3][0] = - (right + left) / (right - left);\n",
    "    Result[3][1] = - (top + bottom) / (top - bottom);\n",
    "    Result[3][2] = - (zFar + zNear) / (zFar - zNear);\n",
    "    return Result;\n",
    "}\n",
    "\n",
    "template <typename T> GLM_FUNC_QUALIFIER tmat4x4<T, defaultp>\n",
    "ortho (T left, T right, T bottom, T top) {\n",
    "    tmat4x4<T, defaultp> Result(1);\n",
    "    Result[0][0] = static_cast<T>(2) / (right - left);\n",
    "    Result[1][1] = static_cast<T>(2) / (top - bottom);\n",
    "    Result[2][2] = - static_cast<T>(1);\n",
    "    Result[3][0] = - (right + left) / (right - left);\n",
    "    Result[3][1] = - (top + bottom) / (top - bottom);\n",
    "    return Result;\n",
    "}'''\n",
    "\n",
    "if __name__ == '__main__':\n",
    "    print('Ortho(0, 10, 0, 10, 2, 12):\\n{0}'.format(ortho(0, 10, 0, 10, 2, 12)))"
   ]
  },
  {
   "cell_type": "markdown",
   "metadata": {},
   "source": [
    "## Frustum transformation"
   ]
  },
  {
   "cell_type": "code",
   "execution_count": 38,
   "metadata": {
    "collapsed": false
   },
   "outputs": [
    {
     "name": "stdout",
     "output_type": "stream",
     "text": [
      "Frustum(0, 10, 0, 10, 2, 12):\n",
      "[[ 0.4  0.   1.   0. ]\n",
      " [ 0.   0.4  1.   0. ]\n",
      " [ 0.   0.  -1.4 -4.8]\n",
      " [ 0.   0.   0.   0. ]]\n"
     ]
    }
   ],
   "source": [
    "def frustum(left, right, bottom, top, near, far):\n",
    "    rl, tb, fn = right - left, top - bottom, far - near\n",
    "    return mat4x4(\n",
    "            2 * near / rl, 0, (right + left) / rl, 0,\n",
    "            0, 2 * near / tb, (top + bottom) / tb, 0,\n",
    "            0, 0, -(far + near) / fn, -2 * far * near / fn,\n",
    "            0, 0, 0, 0)\n",
    "\n",
    "''' GLM implementation\n",
    "template <typename T> GLM_FUNC_QUALIFIER tmat4x4<T, defaultp>\n",
    "frustum (T left, T right, T bottom, T top, T nearVal, T farVal) {\n",
    "    tmat4x4<T, defaultp> Result(0);\n",
    "    Result[0][0] = (static_cast<T>(2) * nearVal) / (right - left);\n",
    "    Result[1][1] = (static_cast<T>(2) * nearVal) / (top - bottom);\n",
    "    Result[2][0] = (right + left) / (right - left);\n",
    "    Result[2][1] = (top + bottom) / (top - bottom);\n",
    "    Result[2][2] = -(farVal + nearVal) / (farVal - nearVal);\n",
    "    Result[2][3] = static_cast<T>(-1);\n",
    "    Result[3][2] = -(static_cast<T>(2) * farVal * nearVal) / (farVal - nearVal);\n",
    "    return Result;\n",
    "}\n",
    "'''\n",
    "\n",
    "if __name__ == '__main__':\n",
    "    print('Frustum(0, 10, 0, 10, 2, 12):\\n{0}'.format(frustum(0, 10, 0, 10, 2, 12)))"
   ]
  },
  {
   "cell_type": "code",
   "execution_count": 35,
   "metadata": {
    "collapsed": false
   },
   "outputs": [
    {
     "name": "stdout",
     "output_type": "stream",
     "text": [
      "Perspective(np.pi / 3, 1, 2, 12):\n",
      "[[ 1.732  0.     0.     0.   ]\n",
      " [ 0.     1.732  0.     0.   ]\n",
      " [ 0.     0.    -1.4   -4.8  ]\n",
      " [ 0.     0.    -1.     0.   ]]\n"
     ]
    }
   ],
   "source": [
    "def perspective(fovy, aspect, near, far):\n",
    "    tFovy2 = tan(fovy / 2)\n",
    "    return mat4x4(\n",
    "            1 / (aspect * tFovy2), 0, 0, 0,\n",
    "            0, 1 / tFovy2, 0, 0,\n",
    "            0, 0, -(far + near) / (far - near), -2 * far * near / (far - near),\n",
    "            0, 0, -1, 0)\n",
    "\n",
    "#def perspective(fovy, aspect, near, far):\n",
    "#    s = 1 / tan(fovy / 2 * np.pi / 180)\n",
    "#    M = np.diag([s, s, - float(far + near) / float(far - near), 0])\n",
    "#    M[2][3] = -1; M[3][2] = - 2 * far * near / float(far - near)\n",
    "#    return M.astype(np.float32)\n",
    "\n",
    "''' GLM implementation\n",
    "template <typename T> GLM_FUNC_QUALIFIER tmat4x4<T, defaultp>\n",
    "perspective (T fovy, T aspect, T zNear, T zFar) {\n",
    "    assert(abs(aspect - std::numeric_limits<T>::epsilon()) > static_cast<T>(0));\n",
    "\n",
    "    T const tanHalfFovy = tan(fovy / static_cast<T>(2));\n",
    "\n",
    "    tmat4x4<T, defaultp> Result(static_cast<T>(0));\n",
    "    Result[0][0] = static_cast<T>(1) / (aspect * tanHalfFovy);\n",
    "    Result[1][1] = static_cast<T>(1) / (tanHalfFovy);\n",
    "    Result[2][2] = - (zFar + zNear) / (zFar - zNear);\n",
    "    Result[2][3] = - static_cast<T>(1);\n",
    "    Result[3][2] = - (static_cast<T>(2) * zFar * zNear) / (zFar - zNear);\n",
    "    return Result;\n",
    "}'''\n",
    "\n",
    "\n",
    "if __name__ == '__main__':\n",
    "    print('Perspective(np.pi / 3, 1, 2, 12):\\n{0}'.format(perspective(np.pi / 3, 1, 2, 12)))"
   ]
  },
  {
   "cell_type": "code",
   "execution_count": 44,
   "metadata": {
    "collapsed": true
   },
   "outputs": [],
   "source": [
    "def perspectiveFov(fov, width, height, near, far):\n",
    "    h = cos(fov/2) / sin(fov/2)\n",
    "    w = h * height / width\n",
    "    return mat4x4(\n",
    "            w, 0, 0, 0,\n",
    "            0, h, 0, 0,\n",
    "            0, 0, -(far + near) / (far - near), -1, \n",
    "            0, 0, -2 * far * near / (far - near))\n",
    "\n",
    "'''GLM implementation\n",
    "template <typename T> GLM_FUNC_QUALIFIER tmat4x4<T, defaultp>\n",
    "perspectiveFov (T fov, T width, T height, T zNear, T zFar) {\n",
    "    assert(width > static_cast<T>(0));\n",
    "    assert(height > static_cast<T>(0));\n",
    "    assert(fov > static_cast<T>(0));\n",
    "\n",
    "    T const rad = fov;\n",
    "    T const h = glm::cos(static_cast<T>(0.5) * rad) / glm::sin(static_cast<T>(0.5) * rad);\n",
    "    T const w = h * height / width; ///todo max(width , Height) / min(width , Height)?\n",
    "\n",
    "    tmat4x4<T, defaultp> Result(static_cast<T>(0));\n",
    "    Result[0][0] = w;\n",
    "    Result[1][1] = h;\n",
    "    Result[2][2] = - (zFar + zNear) / (zFar - zNear);\n",
    "    Result[2][3] = - static_cast<T>(1);\n",
    "    Result[3][2] = - (static_cast<T>(2) * zFar * zNear) / (zFar - zNear);\n",
    "    return Result;\n",
    "}'''\n",
    "\n",
    "if __name__ == '__main__':\n",
    "    pass"
   ]
  },
  {
   "cell_type": "code",
   "execution_count": 45,
   "metadata": {
    "collapsed": false
   },
   "outputs": [],
   "source": [
    "def project(obj, Model, Proj, viewport):\n",
    "    V = Proj.dot(Model.dot(obj))\n",
    "    V = V / V[3] / 2 + 0.5\n",
    "    V[0] = V[0] * viewport[2] + viewport[0]\n",
    "    V[1] = V[1] * viewport[3] + viewport[1]\n",
    "    return V\n",
    "\n",
    "'''GLM implementation\n",
    "template <typename T, typename U, precision P> GLM_FUNC_QUALIFIER tvec3<T, P>\n",
    "project (tvec3<T, P> const & obj, tmat4x4<T, P> const & model, tmat4x4<T, P> const & proj, tvec4<U, P> const & viewport) {\n",
    "    tvec4<T, P> tmp = tvec4<T, P>(obj, T(1));\n",
    "    tmp = model * tmp;\n",
    "    tmp = proj * tmp;\n",
    "\n",
    "    tmp /= tmp.w;\n",
    "    tmp = tmp * T(0.5) + T(0.5);\n",
    "    tmp[0] = tmp[0] * T(viewport[2]) + T(viewport[0]);\n",
    "    tmp[1] = tmp[1] * T(viewport[3]) + T(viewport[1]);\n",
    "\n",
    "    return tvec3<T, P>(tmp);\n",
    "}'''\n",
    "\n",
    "if __name__ == '__main__':\n",
    "#    print('Project(obj, Model, Proj, viewport):\\n{0}'.format(perspective(np.pi / 3, 1, 2, 12)))\n",
    "    pass"
   ]
  }
 ],
 "metadata": {
  "kernelspec": {
   "display_name": "Python 3",
   "language": "python",
   "name": "python3"
  },
  "language_info": {
   "codemirror_mode": {
    "name": "ipython",
    "version": 3
   },
   "file_extension": ".py",
   "mimetype": "text/x-python",
   "name": "python",
   "nbconvert_exporter": "python",
   "pygments_lexer": "ipython3",
   "version": "3.5.1"
  }
 },
 "nbformat": 4,
 "nbformat_minor": 0
}
